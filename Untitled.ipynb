{
 "cells": [
  {
   "cell_type": "code",
   "execution_count": null,
   "metadata": {},
   "outputs": [],
   "source": [
    "# %load example6-mofan.py\n",
    "import tensorflow as tf\n",
    "from tensorflow.examples.tutorials.mnist import input_data\n",
    "\n",
    "#获取minist数据集\n",
    "minist = input_data.read_data_sets(\"MINIST_data\",one_hot=True)\n",
    "\n",
    "######################\n",
    "#添加层\n",
    "######################\n",
    "\n",
    "def add_layer(inputs,in_size,out_size,activation_function=None):\n",
    "        with tf.name_scope(\"weight\"):\n",
    "            Weights = tf.Variable(tf.random_normal([in_size,out_size]),name=\"W\")\n",
    "            tf.summary.histogram('/weights',Weights)\n",
    "        with tf.name_scope(\"biase\"):\n",
    "            biases = tf.Variable(tf.zeros([1,out_size])+0.1)\n",
    "            tf.summary.histogram('/biase', biases)\n",
    "        with tf.name_scope(\"Wx_plus_b\"):\n",
    "            Wx_plus_b = tf.matmul(inputs,Weights)+biases\n",
    "\n",
    "        if activation_function is None:\n",
    "            outputs = Wx_plus_b;\n",
    "        else:\n",
    "            outputs = activation_function(Wx_plus_b)\n",
    "        tf.summary.histogram(\"/outputs\",outputs)\n",
    "        return outputs\n",
    "\n",
    "def compute_accuracy(v_xs,v_ys):\n",
    "    global prediction\n",
    "    #每train一次就用test.minist的v_xs来生成预测值和标准预测值作比较 \n",
    "    y_pre = sess.run(prediction,feed_dict={xs:v_xs})\n",
    "    correct_prediction=tf.equal(tf.argmax(y_pre,1),tf.argmax(v_ys,1))\n",
    "    accruacy  = tf.reduce_mean(tf.cast(correct_prediction,tf.float32))\n",
    "    result = sess.run(accruacy,feed_dict={xs:v_xs,ys:v_ys})\n",
    "    return result\n",
    "\n",
    "xs=tf.placeholder(tf.float32,[None,784]) #28X28\n",
    "ys=tf.placeholder(tf.float32,[None,10])\n",
    "\n",
    "#add output layer\n",
    "prediction =add_layer(xs,784,10,activation_function=tf.nn.softmax)\n",
    "cross_entropy= tf.reduce_mean(-tf.reduce_sum(ys*tf.log(prediction),reduction_indices=[1])) #loss\n",
    "train_step = tf.train.GradientDescentOptimizer(0.5).minimize(cross_entropy)\n",
    "\n",
    "sess = tf.Session()\n",
    "init = tf.global_variables_initializer()\n",
    "sess.run(init)\n",
    "\n",
    "for i in range(10000):\n",
    "    batch_xs,batch_ys=minist.train.next_batch(100)\n",
    "    sess.run(train_step,feed_dict={xs:batch_xs,ys:batch_ys})\n",
    "    if i%50 ==0:\n",
    "        print(\"step\",i,compute_accuracy(minist.test.images,minist.test.labels))\n",
    "\n",
    "\n",
    "\n"
   ]
  },
  {
   "cell_type": "code",
   "execution_count": null,
   "metadata": {},
   "outputs": [],
   "source": []
  }
 ],
 "metadata": {
  "kernelspec": {
   "display_name": "Python (base)",
   "language": "python",
   "name": "base"
  },
  "language_info": {
   "codemirror_mode": {
    "name": "ipython",
    "version": 3
   },
   "file_extension": ".py",
   "mimetype": "text/x-python",
   "name": "python",
   "nbconvert_exporter": "python",
   "pygments_lexer": "ipython3",
   "version": "3.6.4"
  }
 },
 "nbformat": 4,
 "nbformat_minor": 2
}
